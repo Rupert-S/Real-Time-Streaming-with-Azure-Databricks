{
 "cells": [
  {
   "cell_type": "markdown",
   "metadata": {
    "application/vnd.databricks.v1+cell": {
     "cellMetadata": {},
     "inputWidgets": {},
     "nuid": "a7a39961-ef88-4c98-bdaf-32599b4e4106",
     "showTitle": false,
     "tableResultSettingsMap": {},
     "title": ""
    }
   },
   "source": [
    "# Real-time Data Processing with Azure Databricks (and Event Hubs)\n",
    "\n",
    "This notebook demonstrates the below architecture to build real-time data pipelines.\n",
    "![Solution Architecture](https://raw.githubusercontent.com/malvik01/Real-Time-Streaming-with-Azure-Databricks/main/Azure%20Solution%20Architecture.png)\n",
    "\n",
    "\n",
    "- Data Sources: Streaming data from IoT devices or social media feeds. (Simulated in Event Hubs)\n",
    "- Ingestion: Azure Event Hubs for capturing real-time data.\n",
    "- Processing: Azure Databricks for stream processing using Structured Streaming.\n",
    "- Storage: Processed data stored Azure Data Lake (Delta Format).\n",
    "- Visualisation: Data visualized using Power BI.\n",
    "\n",
    "\n",
    "### Azure Services Required\n",
    "- Databricks Workspace (Unity Catalog enabled)\n",
    "- Azure Data Lake Storage (Premium)\n",
    "- Azure Event Hub (Basic Tier)\n",
    "\n",
    "### Azure Databricks Configuration Required\n",
    "- Single Node Compute Cluster: `12.2 LTS (includes Apache Spark 3.3.2, Scala 2.12)`\n",
    "- Maven Library installed on Compute Cluster: `com.microsoft.azure:azure-eventhubs-spark_2.12:2.3.22`"
   ]
  },
  {
   "cell_type": "markdown",
   "metadata": {
    "application/vnd.databricks.v1+cell": {
     "cellMetadata": {},
     "inputWidgets": {},
     "nuid": "e1a287c0-1c5e-4649-ad56-a7b03707a663",
     "showTitle": false,
     "tableResultSettingsMap": {},
     "title": ""
    }
   },
   "source": [
    "Importing the libraries."
   ]
  },
  {
   "cell_type": "code",
   "execution_count": null,
   "metadata": {
    "application/vnd.databricks.v1+cell": {
     "cellMetadata": {
      "byteLimit": 2048000,
      "rowLimit": 10000
     },
     "inputWidgets": {},
     "nuid": "d376948f-980e-4887-a319-45a525172d43",
     "showTitle": false,
     "tableResultSettingsMap": {},
     "title": ""
    }
   },
   "outputs": [],
   "source": [
    "from pyspark.sql.functions import *\n",
    "from pyspark.sql.types import *"
   ]
  },
  {
   "cell_type": "markdown",
   "metadata": {
    "application/vnd.databricks.v1+cell": {
     "cellMetadata": {},
     "inputWidgets": {},
     "nuid": "6b5cc9f6-21cd-4201-a324-e97122c8203f",
     "showTitle": false,
     "tableResultSettingsMap": {},
     "title": ""
    }
   },
   "source": [
    "The code block below creates the catalog and schemas for our solution. \n",
    "\n",
    "The approach utilises a multi-hop data storage architecture (medallion), consisting of bronze, silver, and gold schemas within a 'streaming' catalog. "
   ]
  },
  {
   "cell_type": "code",
   "execution_count": null,
   "metadata": {
    "application/vnd.databricks.v1+cell": {
     "cellMetadata": {
      "byteLimit": 2048000,
      "implicitDf": true,
      "rowLimit": 10000
     },
     "inputWidgets": {},
     "nuid": "49397d51-5412-4079-9159-06307954a7c1",
     "showTitle": false,
     "tableResultSettingsMap": {},
     "title": ""
    }
   },
   "outputs": [
    {
     "name": "stdout",
     "output_type": "stream",
     "text": [
      "Error creating catalog: [RequestId=3e6d84c2-77e5-4344-8d48-8ef4ebf81607 ErrorClass=INVALID_STATE] Metastore storage root URL does not exist. Please provide a storage location for the catalog (for example 'CREATE CATALOG myCatalog MANAGED LOCATION '<location-path>'). Alternatively set up a metastore root storage location to provide a storage location for all catalogs in the metastore.\n",
      "Schema 'streaming.bronze' created successfully or already exists.\n",
      "Schema 'streaming.silver' created successfully or already exists.\n",
      "Schema 'streaming.gold' created successfully or already exists.\n"
     ]
    }
   ],
   "source": [
    "try:\n",
    "    spark.sql(\"CREATE CATALOG IF NOT EXISTS streaming\")\n",
    "    print(\"Catalog 'streaming' created successfully or already exists.\")\n",
    "except Exception as e:\n",
    "    print(f\"Error creating catalog: {e}\")\n",
    "\n",
    "try:\n",
    "    spark.sql(\"CREATE SCHEMA IF NOT EXISTS streaming.bronze\")\n",
    "    print(\"Schema 'streaming.bronze' created successfully or already exists.\")\n",
    "except Exception as e:\n",
    "    print(f\"Error creating schema 'streaming.bronze': {e}\")\n",
    "\n",
    "try:\n",
    "    spark.sql(\"CREATE SCHEMA IF NOT EXISTS streaming.silver\")\n",
    "    print(\"Schema 'streaming.silver' created successfully or already exists.\")\n",
    "except Exception as e:\n",
    "    print(f\"Error creating schema 'streaming.silver': {e}\")\n",
    "\n",
    "try:\n",
    "    spark.sql(\"CREATE SCHEMA IF NOT EXISTS streaming.gold\")\n",
    "    print(\"Schema 'streaming.gold' created successfully or already exists.\")\n",
    "except Exception as e:\n",
    "    print(f\"Error creating schema 'streaming.gold': {e}\")"
   ]
  },
  {
   "cell_type": "code",
   "execution_count": null,
   "metadata": {
    "application/vnd.databricks.v1+cell": {
     "cellMetadata": {
      "byteLimit": 2048000,
      "rowLimit": 10000
     },
     "inputWidgets": {},
     "nuid": "f2c19c79-69a3-4495-8213-8a7be97ab30d",
     "showTitle": false,
     "tableResultSettingsMap": {},
     "title": ""
    }
   },
   "outputs": [
    {
     "data": {
      "text/html": [
       "<style scoped>\n",
       "  .table-result-container {\n",
       "    max-height: 300px;\n",
       "    overflow: auto;\n",
       "  }\n",
       "  table, th, td {\n",
       "    border: 1px solid black;\n",
       "    border-collapse: collapse;\n",
       "  }\n",
       "  th, td {\n",
       "    padding: 5px;\n",
       "  }\n",
       "  th {\n",
       "    text-align: left;\n",
       "  }\n",
       "</style><div class='table-result-container'><table class='table-result'><thead style='background-color: white'><tr><th>catalog</th></tr></thead><tbody><tr><td>adb_de_pipeline_demo</td></tr><tr><td>hive_metastore</td></tr><tr><td>samples</td></tr><tr><td>streaming</td></tr><tr><td>system</td></tr></tbody></table></div>"
      ]
     },
     "metadata": {
      "application/vnd.databricks.v1+output": {
       "addedWidgets": {},
       "aggData": [],
       "aggError": "",
       "aggOverflow": false,
       "aggSchema": [],
       "aggSeriesLimitReached": false,
       "aggType": "",
       "arguments": {},
       "columnCustomDisplayInfos": {},
       "data": [
        [
         "adb_de_pipeline_demo"
        ],
        [
         "hive_metastore"
        ],
        [
         "samples"
        ],
        [
         "streaming"
        ],
        [
         "system"
        ]
       ],
       "datasetInfos": [],
       "dbfsResultPath": null,
       "isJsonSchema": true,
       "metadata": {},
       "overflow": false,
       "plotOptions": {
        "customPlotOptions": {},
        "displayType": "table",
        "pivotAggregation": null,
        "pivotColumns": null,
        "xColumns": null,
        "yColumns": null
       },
       "removedWidgets": [],
       "schema": [
        {
         "metadata": "{}",
         "name": "catalog",
         "type": "\"string\""
        }
       ],
       "type": "table"
      }
     },
     "output_type": "display_data"
    }
   ],
   "source": [
    "# List all catalogs to verify if the 'streaming' catalog was created\n",
    "catalogs = spark.sql(\"SHOW CATALOGS\")\n",
    "display(catalogs)"
   ]
  },
  {
   "cell_type": "markdown",
   "metadata": {
    "application/vnd.databricks.v1+cell": {
     "cellMetadata": {},
     "inputWidgets": {},
     "nuid": "90b61da0-3b55-4941-8436-2411646fa4f9",
     "showTitle": false,
     "tableResultSettingsMap": {},
     "title": ""
    }
   },
   "source": [
    "#### Bronze Layer"
   ]
  },
  {
   "cell_type": "markdown",
   "metadata": {
    "application/vnd.databricks.v1+cell": {
     "cellMetadata": {},
     "inputWidgets": {},
     "nuid": "8806de51-7d1e-4dcc-8981-27f5a3447f96",
     "showTitle": false,
     "tableResultSettingsMap": {},
     "title": ""
    }
   },
   "source": [
    "Set up Azure Event hubs connection string."
   ]
  },
  {
   "cell_type": "code",
   "execution_count": null,
   "metadata": {
    "application/vnd.databricks.v1+cell": {
     "cellMetadata": {
      "byteLimit": 2048000,
      "rowLimit": 10000
     },
     "inputWidgets": {},
     "nuid": "3397f5f1-841b-4911-9099-8b99b92ab7c0",
     "showTitle": false,
     "tableResultSettingsMap": {},
     "title": ""
    }
   },
   "outputs": [],
   "source": [
    "# Config\n",
    "# Replace with your Event Hub namespace, name, and key\n",
    "connectionString = \"$myconnectionstring\"\n",
    "eventHubName = \"eh-demo-01\"\n",
    "\n",
    "ehConf = {\n",
    "  'eventhubs.connectionString' : sc._jvm.org.apache.spark.eventhubs.EventHubsUtils.encrypt(connectionString),\n",
    "  'eventhubs.eventHubName': eventHubName\n",
    "}"
   ]
  },
  {
   "cell_type": "markdown",
   "metadata": {
    "application/vnd.databricks.v1+cell": {
     "cellMetadata": {},
     "inputWidgets": {},
     "nuid": "37b28ff3-52b8-4a3f-ad67-758854096a2b",
     "showTitle": false,
     "tableResultSettingsMap": {},
     "title": ""
    }
   },
   "source": [
    "Reading and writing the stream to the bronze layer."
   ]
  },
  {
   "cell_type": "code",
   "execution_count": null,
   "metadata": {
    "application/vnd.databricks.v1+cell": {
     "cellMetadata": {
      "byteLimit": 2048000,
      "rowLimit": 10000
     },
     "inputWidgets": {},
     "nuid": "f3a4d2e0-7441-405b-bce8-142d6699a436",
     "showTitle": false,
     "tableResultSettingsMap": {},
     "title": ""
    }
   },
   "outputs": [
    {
     "data": {
      "text/html": [
       "<style scoped>\n",
       "  .table-result-container {\n",
       "    max-height: 300px;\n",
       "    overflow: auto;\n",
       "  }\n",
       "  table, th, td {\n",
       "    border: 1px solid black;\n",
       "    border-collapse: collapse;\n",
       "  }\n",
       "  th, td {\n",
       "    padding: 5px;\n",
       "  }\n",
       "  th {\n",
       "    text-align: left;\n",
       "  }\n",
       "</style><div class='table-result-container'><table class='table-result'><thead style='background-color: white'><tr><th>body</th><th>partition</th><th>offset</th><th>sequenceNumber</th><th>enqueuedTime</th><th>publisher</th><th>partitionKey</th><th>properties</th><th>systemProperties</th></tr></thead><tbody></tbody></table></div>"
      ]
     },
     "metadata": {
      "application/vnd.databricks.v1+output": {
       "addedWidgets": {},
       "aggData": [],
       "aggError": "",
       "aggOverflow": false,
       "aggSchema": [],
       "aggSeriesLimitReached": false,
       "aggType": "",
       "arguments": {},
       "columnCustomDisplayInfos": {},
       "data": [],
       "datasetInfos": [],
       "dbfsResultPath": null,
       "isJsonSchema": true,
       "metadata": {
        "isDbfsCommandResult": false
       },
       "overflow": false,
       "plotOptions": {
        "customPlotOptions": {},
        "displayType": "table",
        "pivotAggregation": null,
        "pivotColumns": null,
        "xColumns": null,
        "yColumns": null
       },
       "removedWidgets": [],
       "schema": [
        {
         "metadata": "{}",
         "name": "body",
         "type": "\"binary\""
        },
        {
         "metadata": "{}",
         "name": "partition",
         "type": "\"string\""
        },
        {
         "metadata": "{}",
         "name": "offset",
         "type": "\"string\""
        },
        {
         "metadata": "{}",
         "name": "sequenceNumber",
         "type": "\"long\""
        },
        {
         "metadata": "{}",
         "name": "enqueuedTime",
         "type": "\"timestamp\""
        },
        {
         "metadata": "{}",
         "name": "publisher",
         "type": "\"string\""
        },
        {
         "metadata": "{}",
         "name": "partitionKey",
         "type": "\"string\""
        },
        {
         "metadata": "{}",
         "name": "properties",
         "type": "{\"type\":\"map\",\"keyType\":\"string\",\"valueType\":\"string\",\"valueContainsNull\":true}"
        },
        {
         "metadata": "{}",
         "name": "systemProperties",
         "type": "{\"type\":\"map\",\"keyType\":\"string\",\"valueType\":\"string\",\"valueContainsNull\":true}"
        }
       ],
       "type": "table"
      }
     },
     "output_type": "display_data"
    }
   ],
   "source": [
    "# Reading stream: Load data from Azure Event Hub into DataFrame 'df' using the previously configured settings\n",
    "df = spark.readStream \\\n",
    "    .format(\"eventhubs\") \\\n",
    "    .options(**ehConf) \\\n",
    "    .load() \\\n",
    "\n",
    "# Displaying stream: Show the incoming streaming data for visualization and debugging purposes\n",
    "df.display()\n"
   ]
  },
  {
   "cell_type": "code",
   "execution_count": null,
   "metadata": {
    "application/vnd.databricks.v1+cell": {
     "cellMetadata": {
      "byteLimit": 2048000,
      "rowLimit": 10000
     },
     "inputWidgets": {},
     "nuid": "3ab57af3-36c7-4ffa-b13f-a833d7a2dc53",
     "showTitle": false,
     "tableResultSettingsMap": {},
     "title": ""
    }
   },
   "outputs": [
    {
     "data": {
      "text/html": [
       "<style scoped>\n",
       "  .table-result-container {\n",
       "    max-height: 300px;\n",
       "    overflow: auto;\n",
       "  }\n",
       "  table, th, td {\n",
       "    border: 1px solid black;\n",
       "    border-collapse: collapse;\n",
       "  }\n",
       "  th, td {\n",
       "    padding: 5px;\n",
       "  }\n",
       "  th {\n",
       "    text-align: left;\n",
       "  }\n",
       "</style><div class='table-result-container'><table class='table-result'><thead style='background-color: white'><tr><th>body</th><th>partition</th><th>offset</th><th>sequenceNumber</th><th>enqueuedTime</th><th>publisher</th><th>partitionKey</th><th>properties</th><th>systemProperties</th></tr></thead><tbody><tr><td>ew0KICAgICJ0ZW1wZXJhdHVyZSI6IDIwLA0KICAgICJodW1pZGl0eSI6IDYwLA0KICAgICJ3aW5kU3BlZWQiOiAxMCwNCiAgICAid2luZERpcmVjdGlvbiI6ICJOVyIsDQogICAgInByZWNpcGl0YXRpb24iOiAwLA0KICAgICI= (truncated)</td><td>1</td><td>0</td><td>0</td><td>2025-01-28T21:15:38.705+0000</td><td>null</td><td>null</td><td>Map()</td><td>Map(x-opt-sequence-number-epoch -> -1, correlation-id -> dcfd1a80-099d-483d-a282-8bc4104d1e0f, message-id -> EHExplorer-85f50c36-bd4c-4655-9518-3a92d4e2105f, content-type -> application/json)</td></tr><tr><td>ew0KICAgICJ0ZW1wZXJhdHVyZSI6IDIyLA0KICAgICJodW1pZGl0eSI6IDYwLA0KICAgICJ3aW5kU3BlZWQiOiAxMCwNCiAgICAid2luZERpcmVjdGlvbiI6ICJOVyIsDQogICAgInByZWNpcGl0YXRpb24iOiAwLA0KICAgICI= (truncated)</td><td>1</td><td>376</td><td>1</td><td>2025-01-28T21:16:14.066+0000</td><td>null</td><td>null</td><td>Map()</td><td>Map(x-opt-sequence-number-epoch -> -1, correlation-id -> e61ed747-bb22-421e-8100-771274186211, message-id -> EHExplorer-a51d5d8b-8c50-4b60-b3d9-7fa08ef85b77, content-type -> application/json)</td></tr><tr><td>ew0KICAgICJ0ZW1wZXJhdHVyZSI6IDMyLA0KICAgICJodW1pZGl0eSI6IDY1LA0KICAgICJ3aW5kU3BlZWQiOiAxMCwNCiAgICAid2luZERpcmVjdGlvbiI6ICJTVyIsDQogICAgInByZWNpcGl0YXRpb24iOiAwLA0KICAgICI= (truncated)</td><td>0</td><td>1096</td><td>3</td><td>2025-01-28T21:26:01.814+0000</td><td>null</td><td>null</td><td>Map()</td><td>Map(x-opt-sequence-number-epoch -> -1, correlation-id -> aef19a37-afa3-41ee-a349-eee2c3d48756, message-id -> EHExplorer-f9893fbf-251c-401c-9ca3-b506f92c09f4, content-type -> application/json)</td></tr><tr><td>ew0KICAgICJ0ZW1wZXJhdHVyZSI6IDE4LA0KICAgICJodW1pZGl0eSI6IDQwLA0KICAgICJ3aW5kU3BlZWQiOiAyNSwNCiAgICAid2luZERpcmVjdGlvbiI6ICJTIiwNCiAgICAicHJlY2lwaXRhdGlvbiI6IDAsDQogICAgImM= (truncated)</td><td>1</td><td>752</td><td>2</td><td>2025-01-28T21:39:16.609+0000</td><td>null</td><td>null</td><td>Map()</td><td>Map(x-opt-sequence-number-epoch -> -1, correlation-id -> 5da9eae5-f1f3-40e3-9211-cfb1fb4806b3, message-id -> EHExplorer-5703cd83-63cc-4582-a28b-923c18d05000, content-type -> application/json)</td></tr><tr><td>ew0KICAgICJ0ZW1wZXJhdHVyZSI6IDI4LA0KICAgICJodW1pZGl0eSI6IDUwLA0KICAgICJ3aW5kU3BlZWQiOiAyMCwNCiAgICAid2luZERpcmVjdGlvbiI6ICJXIiwNCiAgICAicHJlY2lwaXRhdGlvbiI6IDAsDQogICAgImM= (truncated)</td><td>1</td><td>1120</td><td>3</td><td>2025-01-28T21:47:43.988+0000</td><td>null</td><td>null</td><td>Map()</td><td>Map(x-opt-sequence-number-epoch -> -1, correlation-id -> 07fd3b73-0e34-4ed5-bff1-06f2b4a42dfd, message-id -> EHExplorer-dca7f56e-e218-4471-8f2e-2dfe2b4d0d44, content-type -> application/json)</td></tr><tr><td>ew0KICAgICJ0ZW1wZXJhdHVyZSI6IDEwLA0KICAgICJodW1pZGl0eSI6IDEwLA0KICAgICJ3aW5kU3BlZWQiOiA0MCwNCiAgICAid2luZERpcmVjdGlvbiI6ICJOIiwNCiAgICAicHJlY2lwaXRhdGlvbiI6IDAsDQogICAgImM= (truncated)</td><td>0</td><td>1472</td><td>4</td><td>2025-01-28T21:51:40.714+0000</td><td>null</td><td>null</td><td>Map()</td><td>Map(x-opt-sequence-number-epoch -> -1, correlation-id -> 45feea42-663c-4645-8b7d-2f920030ffeb, message-id -> EHExplorer-e64912aa-33d0-48d6-933c-6c61dfa79828, content-type -> application/json)</td></tr><tr><td>ew0KICAgICJ0ZW1wZXJhdHVyZSI6IDE1LA0KICAgICJodW1pZGl0eSI6IDYwLA0KICAgICJ3aW5kU3BlZWQiOiAxMCwNCiAgICAid2luZERpcmVjdGlvbiI6ICJOVyIsDQogICAgInByZWNpcGl0YXRpb24iOiAxMCwNCiAgICA= (truncated)</td><td>1</td><td>1488</td><td>4</td><td>2025-01-28T22:07:12.279+0000</td><td>null</td><td>null</td><td>Map()</td><td>Map(x-opt-sequence-number-epoch -> -1, correlation-id -> 243e6a0d-7cbb-4c4e-a3ac-cf5724bf14df, message-id -> EHExplorer-8028d215-4f09-496d-814e-619cb7d26afe, content-type -> application/json)</td></tr></tbody></table></div>"
      ]
     },
     "metadata": {
      "application/vnd.databricks.v1+output": {
       "addedWidgets": {},
       "aggData": [],
       "aggError": "",
       "aggOverflow": false,
       "aggSchema": [],
       "aggSeriesLimitReached": false,
       "aggType": "",
       "arguments": {},
       "columnCustomDisplayInfos": {},
       "data": [
        [
         "ew0KICAgICJ0ZW1wZXJhdHVyZSI6IDIwLA0KICAgICJodW1pZGl0eSI6IDYwLA0KICAgICJ3aW5kU3BlZWQiOiAxMCwNCiAgICAid2luZERpcmVjdGlvbiI6ICJOVyIsDQogICAgInByZWNpcGl0YXRpb24iOiAwLA0KICAgICI= (truncated)",
         "1",
         "0",
         0,
         "2025-01-28T21:15:38.705+0000",
         null,
         null,
         {},
         {
          "content-type": "application/json",
          "correlation-id": "dcfd1a80-099d-483d-a282-8bc4104d1e0f",
          "message-id": "EHExplorer-85f50c36-bd4c-4655-9518-3a92d4e2105f",
          "x-opt-sequence-number-epoch": "-1"
         }
        ],
        [
         "ew0KICAgICJ0ZW1wZXJhdHVyZSI6IDIyLA0KICAgICJodW1pZGl0eSI6IDYwLA0KICAgICJ3aW5kU3BlZWQiOiAxMCwNCiAgICAid2luZERpcmVjdGlvbiI6ICJOVyIsDQogICAgInByZWNpcGl0YXRpb24iOiAwLA0KICAgICI= (truncated)",
         "1",
         "376",
         1,
         "2025-01-28T21:16:14.066+0000",
         null,
         null,
         {},
         {
          "content-type": "application/json",
          "correlation-id": "e61ed747-bb22-421e-8100-771274186211",
          "message-id": "EHExplorer-a51d5d8b-8c50-4b60-b3d9-7fa08ef85b77",
          "x-opt-sequence-number-epoch": "-1"
         }
        ],
        [
         "ew0KICAgICJ0ZW1wZXJhdHVyZSI6IDMyLA0KICAgICJodW1pZGl0eSI6IDY1LA0KICAgICJ3aW5kU3BlZWQiOiAxMCwNCiAgICAid2luZERpcmVjdGlvbiI6ICJTVyIsDQogICAgInByZWNpcGl0YXRpb24iOiAwLA0KICAgICI= (truncated)",
         "0",
         "1096",
         3,
         "2025-01-28T21:26:01.814+0000",
         null,
         null,
         {},
         {
          "content-type": "application/json",
          "correlation-id": "aef19a37-afa3-41ee-a349-eee2c3d48756",
          "message-id": "EHExplorer-f9893fbf-251c-401c-9ca3-b506f92c09f4",
          "x-opt-sequence-number-epoch": "-1"
         }
        ],
        [
         "ew0KICAgICJ0ZW1wZXJhdHVyZSI6IDE4LA0KICAgICJodW1pZGl0eSI6IDQwLA0KICAgICJ3aW5kU3BlZWQiOiAyNSwNCiAgICAid2luZERpcmVjdGlvbiI6ICJTIiwNCiAgICAicHJlY2lwaXRhdGlvbiI6IDAsDQogICAgImM= (truncated)",
         "1",
         "752",
         2,
         "2025-01-28T21:39:16.609+0000",
         null,
         null,
         {},
         {
          "content-type": "application/json",
          "correlation-id": "5da9eae5-f1f3-40e3-9211-cfb1fb4806b3",
          "message-id": "EHExplorer-5703cd83-63cc-4582-a28b-923c18d05000",
          "x-opt-sequence-number-epoch": "-1"
         }
        ],
        [
         "ew0KICAgICJ0ZW1wZXJhdHVyZSI6IDI4LA0KICAgICJodW1pZGl0eSI6IDUwLA0KICAgICJ3aW5kU3BlZWQiOiAyMCwNCiAgICAid2luZERpcmVjdGlvbiI6ICJXIiwNCiAgICAicHJlY2lwaXRhdGlvbiI6IDAsDQogICAgImM= (truncated)",
         "1",
         "1120",
         3,
         "2025-01-28T21:47:43.988+0000",
         null,
         null,
         {},
         {
          "content-type": "application/json",
          "correlation-id": "07fd3b73-0e34-4ed5-bff1-06f2b4a42dfd",
          "message-id": "EHExplorer-dca7f56e-e218-4471-8f2e-2dfe2b4d0d44",
          "x-opt-sequence-number-epoch": "-1"
         }
        ],
        [
         "ew0KICAgICJ0ZW1wZXJhdHVyZSI6IDEwLA0KICAgICJodW1pZGl0eSI6IDEwLA0KICAgICJ3aW5kU3BlZWQiOiA0MCwNCiAgICAid2luZERpcmVjdGlvbiI6ICJOIiwNCiAgICAicHJlY2lwaXRhdGlvbiI6IDAsDQogICAgImM= (truncated)",
         "0",
         "1472",
         4,
         "2025-01-28T21:51:40.714+0000",
         null,
         null,
         {},
         {
          "content-type": "application/json",
          "correlation-id": "45feea42-663c-4645-8b7d-2f920030ffeb",
          "message-id": "EHExplorer-e64912aa-33d0-48d6-933c-6c61dfa79828",
          "x-opt-sequence-number-epoch": "-1"
         }
        ],
        [
         "ew0KICAgICJ0ZW1wZXJhdHVyZSI6IDE1LA0KICAgICJodW1pZGl0eSI6IDYwLA0KICAgICJ3aW5kU3BlZWQiOiAxMCwNCiAgICAid2luZERpcmVjdGlvbiI6ICJOVyIsDQogICAgInByZWNpcGl0YXRpb24iOiAxMCwNCiAgICA= (truncated)",
         "1",
         "1488",
         4,
         "2025-01-28T22:07:12.279+0000",
         null,
         null,
         {},
         {
          "content-type": "application/json",
          "correlation-id": "243e6a0d-7cbb-4c4e-a3ac-cf5724bf14df",
          "message-id": "EHExplorer-8028d215-4f09-496d-814e-619cb7d26afe",
          "x-opt-sequence-number-epoch": "-1"
         }
        ]
       ],
       "datasetInfos": [],
       "dbfsResultPath": null,
       "isJsonSchema": true,
       "metadata": {
        "isDbfsCommandResult": false
       },
       "overflow": false,
       "plotOptions": {
        "customPlotOptions": {},
        "displayType": "table",
        "pivotAggregation": null,
        "pivotColumns": null,
        "xColumns": null,
        "yColumns": null
       },
       "removedWidgets": [],
       "schema": [
        {
         "metadata": "{}",
         "name": "body",
         "type": "\"binary\""
        },
        {
         "metadata": "{}",
         "name": "partition",
         "type": "\"string\""
        },
        {
         "metadata": "{}",
         "name": "offset",
         "type": "\"string\""
        },
        {
         "metadata": "{}",
         "name": "sequenceNumber",
         "type": "\"long\""
        },
        {
         "metadata": "{}",
         "name": "enqueuedTime",
         "type": "\"timestamp\""
        },
        {
         "metadata": "{}",
         "name": "publisher",
         "type": "\"string\""
        },
        {
         "metadata": "{}",
         "name": "partitionKey",
         "type": "\"string\""
        },
        {
         "metadata": "{}",
         "name": "properties",
         "type": "{\"type\":\"map\",\"keyType\":\"string\",\"valueType\":\"string\",\"valueContainsNull\":true}"
        },
        {
         "metadata": "{}",
         "name": "systemProperties",
         "type": "{\"type\":\"map\",\"keyType\":\"string\",\"valueType\":\"string\",\"valueContainsNull\":true}"
        }
       ],
       "type": "table"
      }
     },
     "output_type": "display_data"
    }
   ],
   "source": [
    "# Reading stream: Load data from Azure Event Hub into DataFrame 'df' using the previously configured settings\n",
    "df = spark.readStream \\\n",
    "    .format(\"eventhubs\") \\\n",
    "    .options(**ehConf) \\\n",
    "    .load() \\\n",
    "\n",
    "# Displaying stream: Show the incoming streaming data for visualization and debugging purposes\n",
    "df.display()\n",
    "\n",
    "# Writing stream: Persist the streaming data to a Delta table 'streaming.bronze.weather' in 'append' mode with checkpointing\n",
    "df.writeStream\\\n",
    "    .option(\"checkpointLocation\", \"/mnt/streaming/bronze/weather\")\\\n",
    "    .outputMode(\"append\")\\\n",
    "    .format(\"delta\")\\\n",
    "    .toTable(\"streaming.bronze.weather\")"
   ]
  },
  {
   "cell_type": "markdown",
   "metadata": {
    "application/vnd.databricks.v1+cell": {
     "cellMetadata": {},
     "inputWidgets": {},
     "nuid": "dbee364e-6b7e-420f-8b98-8a12d663d880",
     "showTitle": false,
     "tableResultSettingsMap": {},
     "title": ""
    }
   },
   "source": [
    "#### Silver Layer"
   ]
  },
  {
   "cell_type": "markdown",
   "metadata": {
    "application/vnd.databricks.v1+cell": {
     "cellMetadata": {},
     "inputWidgets": {},
     "nuid": "8c824846-2235-4e3b-8e75-68281293d50b",
     "showTitle": false,
     "tableResultSettingsMap": {},
     "title": ""
    }
   },
   "source": [
    "Defining the schema for the JSON object."
   ]
  },
  {
   "cell_type": "code",
   "execution_count": null,
   "metadata": {
    "application/vnd.databricks.v1+cell": {
     "cellMetadata": {
      "byteLimit": 2048000,
      "rowLimit": 10000
     },
     "inputWidgets": {},
     "nuid": "4b661190-f917-448b-9093-1017dde3bb25",
     "showTitle": false,
     "tableResultSettingsMap": {},
     "title": ""
    }
   },
   "outputs": [],
   "source": [
    "# Defining the schema for the JSON object\n",
    "\n",
    "json_schema = StructType([\n",
    "    StructField(\"temperature\", IntegerType()),\n",
    "    StructField(\"humidity\", IntegerType()),\n",
    "    StructField(\"windSpeed\", IntegerType()),\n",
    "    StructField(\"windDirection\", StringType()),\n",
    "    StructField(\"precipitation\", IntegerType()),\n",
    "    StructField(\"conditions\", StringType())\n",
    "])"
   ]
  },
  {
   "cell_type": "markdown",
   "metadata": {
    "application/vnd.databricks.v1+cell": {
     "cellMetadata": {},
     "inputWidgets": {},
     "nuid": "fcd659c9-65fc-4112-be6e-06f63196311f",
     "showTitle": false,
     "tableResultSettingsMap": {},
     "title": ""
    }
   },
   "source": [
    "Reading, transforming and writing the stream from the bronze to the silver layer."
   ]
  },
  {
   "cell_type": "code",
   "execution_count": null,
   "metadata": {
    "application/vnd.databricks.v1+cell": {
     "cellMetadata": {
      "byteLimit": 2048000,
      "rowLimit": 10000
     },
     "inputWidgets": {},
     "nuid": "cecb56cd-0764-4b4f-9659-8413b3cb1e47",
     "showTitle": false,
     "tableResultSettingsMap": {},
     "title": ""
    }
   },
   "outputs": [
    {
     "data": {
      "text/html": [
       "<style scoped>\n",
       "  .table-result-container {\n",
       "    max-height: 300px;\n",
       "    overflow: auto;\n",
       "  }\n",
       "  table, th, td {\n",
       "    border: 1px solid black;\n",
       "    border-collapse: collapse;\n",
       "  }\n",
       "  th, td {\n",
       "    padding: 5px;\n",
       "  }\n",
       "  th {\n",
       "    text-align: left;\n",
       "  }\n",
       "</style><div class='table-result-container'><table class='table-result'><thead style='background-color: white'><tr><th>temperature</th><th>humidity</th><th>windSpeed</th><th>timestamp</th></tr></thead><tbody><tr><td>22</td><td>60</td><td>10</td><td>2025-01-28T21:16:14.066+0000</td></tr><tr><td>20</td><td>60</td><td>10</td><td>2025-01-28T21:15:38.705+0000</td></tr><tr><td>32</td><td>65</td><td>10</td><td>2025-01-28T21:26:01.814+0000</td></tr></tbody></table></div>"
      ]
     },
     "metadata": {
      "application/vnd.databricks.v1+output": {
       "addedWidgets": {},
       "aggData": [],
       "aggError": "",
       "aggOverflow": false,
       "aggSchema": [],
       "aggSeriesLimitReached": false,
       "aggType": "",
       "arguments": {},
       "columnCustomDisplayInfos": {},
       "data": [
        [
         22,
         60,
         10,
         "2025-01-28T21:16:14.066+0000"
        ],
        [
         20,
         60,
         10,
         "2025-01-28T21:15:38.705+0000"
        ],
        [
         32,
         65,
         10,
         "2025-01-28T21:26:01.814+0000"
        ]
       ],
       "datasetInfos": [],
       "dbfsResultPath": null,
       "isJsonSchema": true,
       "metadata": {},
       "overflow": false,
       "plotOptions": {
        "customPlotOptions": {},
        "displayType": "table",
        "pivotAggregation": null,
        "pivotColumns": null,
        "xColumns": null,
        "yColumns": null
       },
       "removedWidgets": [],
       "schema": [
        {
         "metadata": "{}",
         "name": "temperature",
         "type": "\"integer\""
        },
        {
         "metadata": "{}",
         "name": "humidity",
         "type": "\"integer\""
        },
        {
         "metadata": "{}",
         "name": "windSpeed",
         "type": "\"integer\""
        },
        {
         "metadata": "{}",
         "name": "timestamp",
         "type": "\"timestamp\""
        }
       ],
       "type": "table"
      }
     },
     "output_type": "display_data"
    }
   ],
   "source": [
    "temp_df = spark.read.table(\"streaming.bronze.weather\")\\\n",
    "            .withColumn(\"body\", col(\"body\").cast(\"string\"))\\\n",
    "            .withColumn(\"body\",from_json(col(\"body\"), json_schema))\\\n",
    "            .select(\"body.temperature\", \"body.humidity\", \"body.windSpeed\",  col(\"enqueuedTime\").alias('timestamp'))\n",
    "temp_df.display()"
   ]
  },
  {
   "cell_type": "code",
   "execution_count": null,
   "metadata": {
    "application/vnd.databricks.v1+cell": {
     "cellMetadata": {
      "byteLimit": 2048000,
      "rowLimit": 10000
     },
     "inputWidgets": {},
     "nuid": "18db15d2-f3d1-4dd7-b5aa-ef421208b46c",
     "showTitle": false,
     "tableResultSettingsMap": {},
     "title": ""
    }
   },
   "outputs": [
    {
     "data": {
      "text/html": [
       "<style scoped>\n",
       "  .table-result-container {\n",
       "    max-height: 300px;\n",
       "    overflow: auto;\n",
       "  }\n",
       "  table, th, td {\n",
       "    border: 1px solid black;\n",
       "    border-collapse: collapse;\n",
       "  }\n",
       "  th, td {\n",
       "    padding: 5px;\n",
       "  }\n",
       "  th {\n",
       "    text-align: left;\n",
       "  }\n",
       "</style><div class='table-result-container'><table class='table-result'><thead style='background-color: white'><tr><th>temperature</th><th>humidity</th><th>windSpeed</th><th>windDirection</th><th>precipitation</th><th>conditions</th><th>timestamp</th></tr></thead><tbody><tr><td>22</td><td>60</td><td>10</td><td>NW</td><td>0</td><td>Partly Cloudy</td><td>2025-01-28T21:16:14.066+0000</td></tr><tr><td>20</td><td>60</td><td>10</td><td>NW</td><td>0</td><td>Partly Cloudy</td><td>2025-01-28T21:15:38.705+0000</td></tr><tr><td>32</td><td>65</td><td>10</td><td>SW</td><td>0</td><td>Partly Cloudy</td><td>2025-01-28T21:26:01.814+0000</td></tr><tr><td>18</td><td>40</td><td>25</td><td>S</td><td>0</td><td>Cloudy</td><td>2025-01-28T21:39:16.609+0000</td></tr><tr><td>28</td><td>50</td><td>20</td><td>W</td><td>0</td><td>Sunny</td><td>2025-01-28T21:47:43.988+0000</td></tr><tr><td>10</td><td>10</td><td>40</td><td>N</td><td>0</td><td>Cloudy</td><td>2025-01-28T21:51:40.714+0000</td></tr><tr><td>15</td><td>60</td><td>10</td><td>NW</td><td>10</td><td>Rainy</td><td>2025-01-28T22:07:12.279+0000</td></tr></tbody></table></div>"
      ]
     },
     "metadata": {
      "application/vnd.databricks.v1+output": {
       "addedWidgets": {},
       "aggData": [],
       "aggError": "",
       "aggOverflow": false,
       "aggSchema": [],
       "aggSeriesLimitReached": false,
       "aggType": "",
       "arguments": {},
       "columnCustomDisplayInfos": {},
       "data": [
        [
         22,
         60,
         10,
         "NW",
         0,
         "Partly Cloudy",
         "2025-01-28T21:16:14.066+0000"
        ],
        [
         20,
         60,
         10,
         "NW",
         0,
         "Partly Cloudy",
         "2025-01-28T21:15:38.705+0000"
        ],
        [
         32,
         65,
         10,
         "SW",
         0,
         "Partly Cloudy",
         "2025-01-28T21:26:01.814+0000"
        ],
        [
         18,
         40,
         25,
         "S",
         0,
         "Cloudy",
         "2025-01-28T21:39:16.609+0000"
        ],
        [
         28,
         50,
         20,
         "W",
         0,
         "Sunny",
         "2025-01-28T21:47:43.988+0000"
        ],
        [
         10,
         10,
         40,
         "N",
         0,
         "Cloudy",
         "2025-01-28T21:51:40.714+0000"
        ],
        [
         15,
         60,
         10,
         "NW",
         10,
         "Rainy",
         "2025-01-28T22:07:12.279+0000"
        ]
       ],
       "datasetInfos": [],
       "dbfsResultPath": null,
       "isJsonSchema": true,
       "metadata": {
        "isDbfsCommandResult": false
       },
       "overflow": false,
       "plotOptions": {
        "customPlotOptions": {},
        "displayType": "table",
        "pivotAggregation": null,
        "pivotColumns": null,
        "xColumns": null,
        "yColumns": null
       },
       "removedWidgets": [],
       "schema": [
        {
         "metadata": "{}",
         "name": "temperature",
         "type": "\"integer\""
        },
        {
         "metadata": "{}",
         "name": "humidity",
         "type": "\"integer\""
        },
        {
         "metadata": "{}",
         "name": "windSpeed",
         "type": "\"integer\""
        },
        {
         "metadata": "{}",
         "name": "windDirection",
         "type": "\"string\""
        },
        {
         "metadata": "{}",
         "name": "precipitation",
         "type": "\"integer\""
        },
        {
         "metadata": "{}",
         "name": "conditions",
         "type": "\"string\""
        },
        {
         "metadata": "{}",
         "name": "timestamp",
         "type": "\"timestamp\""
        }
       ],
       "type": "table"
      }
     },
     "output_type": "display_data"
    }
   ],
   "source": [
    "# Reading and Transforming: Load streaming data from the 'streaming.bronze.weather' Delta table, cast 'body' to string, parse JSON, and select specific fields\n",
    "df = spark.readStream\\\n",
    "    .format(\"delta\")\\\n",
    "    .table(\"streaming.bronze.weather\")\\\n",
    "    .withColumn(\"body\", col(\"body\").cast(\"string\"))\\\n",
    "    .withColumn(\"body\",from_json(col(\"body\"), json_schema))\\\n",
    "    .select(\"body.temperature\", \"body.humidity\", \"body.windSpeed\", \"body.windDirection\", \"body.precipitation\", \"body.conditions\", col(\"enqueuedTime\").alias('timestamp'))\n",
    "\n",
    "# Displaying stream: Visualize the transformed data in the DataFrame for verification and analysis\n",
    "df.display()\n",
    "\n",
    "# Writing stream: Save the transformed data to the 'streaming.silver.weather' Delta table in 'append' mode with checkpointing for data reliability\n",
    "df.writeStream\\\n",
    "    .option(\"checkpointLocation\", \"/mnt/streaming/silver/weather\")\\\n",
    "    .outputMode(\"append\")\\\n",
    "    .format(\"delta\")\\\n",
    "    .toTable(\"streaming.silver.weather\")"
   ]
  },
  {
   "cell_type": "markdown",
   "metadata": {
    "application/vnd.databricks.v1+cell": {
     "cellMetadata": {},
     "inputWidgets": {},
     "nuid": "4078a144-9652-490b-adf3-348ad8780e95",
     "showTitle": false,
     "tableResultSettingsMap": {},
     "title": ""
    }
   },
   "source": [
    "#### Gold Layer"
   ]
  },
  {
   "cell_type": "markdown",
   "metadata": {
    "application/vnd.databricks.v1+cell": {
     "cellMetadata": {},
     "inputWidgets": {},
     "nuid": "53c07779-5a57-4f70-8c90-34554f8a82b1",
     "showTitle": false,
     "tableResultSettingsMap": {},
     "title": ""
    }
   },
   "source": [
    "Reading, aggregating and writing the stream from the silver to the gold layer."
   ]
  },
  {
   "cell_type": "code",
   "execution_count": null,
   "metadata": {
    "application/vnd.databricks.v1+cell": {
     "cellMetadata": {
      "byteLimit": 2048000,
      "rowLimit": 10000
     },
     "inputWidgets": {},
     "nuid": "77f8a72c-bd0c-473f-b153-13e6d653ce77",
     "showTitle": false,
     "tableResultSettingsMap": {},
     "title": ""
    }
   },
   "outputs": [
    {
     "data": {
      "text/html": [
       "<style scoped>\n",
       "  .table-result-container {\n",
       "    max-height: 300px;\n",
       "    overflow: auto;\n",
       "  }\n",
       "  table, th, td {\n",
       "    border: 1px solid black;\n",
       "    border-collapse: collapse;\n",
       "  }\n",
       "  th, td {\n",
       "    padding: 5px;\n",
       "  }\n",
       "  th {\n",
       "    text-align: left;\n",
       "  }\n",
       "</style><div class='table-result-container'><table class='table-result'><thead style='background-color: white'><tr><th>start</th><th>end</th><th>temperature</th><th>humidity</th><th>windSpeed</th><th>precipitation</th></tr></thead><tbody><tr><td>2025-01-28T21:15:00.000+0000</td><td>2025-01-28T21:20:00.000+0000</td><td>21.0</td><td>60.0</td><td>10.0</td><td>0.0</td></tr><tr><td>2025-01-28T21:45:00.000+0000</td><td>2025-01-28T21:50:00.000+0000</td><td>28.0</td><td>50.0</td><td>20.0</td><td>0.0</td></tr><tr><td>2025-01-28T21:50:00.000+0000</td><td>2025-01-28T21:55:00.000+0000</td><td>10.0</td><td>10.0</td><td>40.0</td><td>0.0</td></tr><tr><td>2025-01-28T21:25:00.000+0000</td><td>2025-01-28T21:30:00.000+0000</td><td>32.0</td><td>65.0</td><td>10.0</td><td>0.0</td></tr><tr><td>2025-01-28T21:35:00.000+0000</td><td>2025-01-28T21:40:00.000+0000</td><td>18.0</td><td>40.0</td><td>25.0</td><td>0.0</td></tr></tbody></table></div>"
      ]
     },
     "metadata": {
      "application/vnd.databricks.v1+output": {
       "addedWidgets": {},
       "aggData": [],
       "aggError": "",
       "aggOverflow": false,
       "aggSchema": [],
       "aggSeriesLimitReached": false,
       "aggType": "",
       "arguments": {},
       "columnCustomDisplayInfos": {},
       "data": [
        [
         "2025-01-28T21:15:00.000+0000",
         "2025-01-28T21:20:00.000+0000",
         21,
         60,
         10,
         0
        ],
        [
         "2025-01-28T21:45:00.000+0000",
         "2025-01-28T21:50:00.000+0000",
         28,
         50,
         20,
         0
        ],
        [
         "2025-01-28T21:50:00.000+0000",
         "2025-01-28T21:55:00.000+0000",
         10,
         10,
         40,
         0
        ],
        [
         "2025-01-28T21:25:00.000+0000",
         "2025-01-28T21:30:00.000+0000",
         32,
         65,
         10,
         0
        ],
        [
         "2025-01-28T21:35:00.000+0000",
         "2025-01-28T21:40:00.000+0000",
         18,
         40,
         25,
         0
        ]
       ],
       "datasetInfos": [],
       "dbfsResultPath": null,
       "isJsonSchema": true,
       "metadata": {
        "isDbfsCommandResult": false
       },
       "overflow": false,
       "plotOptions": {
        "customPlotOptions": {},
        "displayType": "table",
        "pivotAggregation": null,
        "pivotColumns": null,
        "xColumns": null,
        "yColumns": null
       },
       "removedWidgets": [],
       "schema": [
        {
         "metadata": "{}",
         "name": "start",
         "type": "\"timestamp\""
        },
        {
         "metadata": "{}",
         "name": "end",
         "type": "\"timestamp\""
        },
        {
         "metadata": "{}",
         "name": "temperature",
         "type": "\"double\""
        },
        {
         "metadata": "{}",
         "name": "humidity",
         "type": "\"double\""
        },
        {
         "metadata": "{}",
         "name": "windSpeed",
         "type": "\"double\""
        },
        {
         "metadata": "{}",
         "name": "precipitation",
         "type": "\"double\""
        }
       ],
       "type": "table"
      }
     },
     "output_type": "display_data"
    }
   ],
   "source": [
    "# Aggregating Stream: Read from 'streaming.silver.weather', apply watermarking and windowing, and calculate average weather metrics\n",
    "df = spark.readStream\\\n",
    "    .format(\"delta\")\\\n",
    "    .table(\"streaming.silver.weather\")\\\n",
    "    .withWatermark(\"timestamp\", \"5 minutes\") \\\n",
    "    .groupBy(window(\"timestamp\", \"5 minutes\")) \\\n",
    "    .agg(avg(\"temperature\").alias('temperature'), avg(\"humidity\").alias('humidity'), avg(\"windSpeed\").alias('windSpeed'), avg(\"precipitation\").alias('precipitation'))\\\n",
    "\t.select('window.start', 'window.end', 'temperature', 'humidity', 'windSpeed', 'precipitation')\n",
    "\n",
    "# Displaying Aggregated Stream: Visualize aggregated data for insights into weather trends\n",
    "df.display()"
   ]
  },
  {
   "cell_type": "code",
   "execution_count": null,
   "metadata": {
    "application/vnd.databricks.v1+cell": {
     "cellMetadata": {
      "byteLimit": 2048000,
      "rowLimit": 10000
     },
     "inputWidgets": {},
     "nuid": "cb4b337b-6bb7-490d-b1d3-2e8b83456661",
     "showTitle": false,
     "tableResultSettingsMap": {},
     "title": ""
    }
   },
   "outputs": [
    {
     "data": {
      "text/html": [
       "<style scoped>\n",
       "  .table-result-container {\n",
       "    max-height: 300px;\n",
       "    overflow: auto;\n",
       "  }\n",
       "  table, th, td {\n",
       "    border: 1px solid black;\n",
       "    border-collapse: collapse;\n",
       "  }\n",
       "  th, td {\n",
       "    padding: 5px;\n",
       "  }\n",
       "  th {\n",
       "    text-align: left;\n",
       "  }\n",
       "</style><div class='table-result-container'><table class='table-result'><thead style='background-color: white'><tr><th>start</th><th>end</th><th>temperature</th><th>humidity</th><th>windSpeed</th><th>precipitation</th></tr></thead><tbody><tr><td>2025-01-28T21:15:00.000+0000</td><td>2025-01-28T21:20:00.000+0000</td><td>21.0</td><td>60.0</td><td>10.0</td><td>0.0</td></tr><tr><td>2025-01-28T21:45:00.000+0000</td><td>2025-01-28T21:50:00.000+0000</td><td>28.0</td><td>50.0</td><td>20.0</td><td>0.0</td></tr><tr><td>2025-01-28T22:05:00.000+0000</td><td>2025-01-28T22:10:00.000+0000</td><td>15.0</td><td>60.0</td><td>10.0</td><td>10.0</td></tr><tr><td>2025-01-28T21:50:00.000+0000</td><td>2025-01-28T21:55:00.000+0000</td><td>10.0</td><td>10.0</td><td>40.0</td><td>0.0</td></tr><tr><td>2025-01-28T21:25:00.000+0000</td><td>2025-01-28T21:30:00.000+0000</td><td>32.0</td><td>65.0</td><td>10.0</td><td>0.0</td></tr><tr><td>2025-01-28T21:35:00.000+0000</td><td>2025-01-28T21:40:00.000+0000</td><td>18.0</td><td>40.0</td><td>25.0</td><td>0.0</td></tr></tbody></table></div>"
      ]
     },
     "metadata": {
      "application/vnd.databricks.v1+output": {
       "addedWidgets": {},
       "aggData": [],
       "aggError": "",
       "aggOverflow": false,
       "aggSchema": [],
       "aggSeriesLimitReached": false,
       "aggType": "",
       "arguments": {},
       "columnCustomDisplayInfos": {},
       "data": [
        [
         "2025-01-28T21:15:00.000+0000",
         "2025-01-28T21:20:00.000+0000",
         21,
         60,
         10,
         0
        ],
        [
         "2025-01-28T21:45:00.000+0000",
         "2025-01-28T21:50:00.000+0000",
         28,
         50,
         20,
         0
        ],
        [
         "2025-01-28T22:05:00.000+0000",
         "2025-01-28T22:10:00.000+0000",
         15,
         60,
         10,
         10
        ],
        [
         "2025-01-28T21:50:00.000+0000",
         "2025-01-28T21:55:00.000+0000",
         10,
         10,
         40,
         0
        ],
        [
         "2025-01-28T21:25:00.000+0000",
         "2025-01-28T21:30:00.000+0000",
         32,
         65,
         10,
         0
        ],
        [
         "2025-01-28T21:35:00.000+0000",
         "2025-01-28T21:40:00.000+0000",
         18,
         40,
         25,
         0
        ]
       ],
       "datasetInfos": [],
       "dbfsResultPath": null,
       "isJsonSchema": true,
       "metadata": {
        "isDbfsCommandResult": false
       },
       "overflow": false,
       "plotOptions": {
        "customPlotOptions": {},
        "displayType": "table",
        "pivotAggregation": null,
        "pivotColumns": null,
        "xColumns": null,
        "yColumns": null
       },
       "removedWidgets": [],
       "schema": [
        {
         "metadata": "{}",
         "name": "start",
         "type": "\"timestamp\""
        },
        {
         "metadata": "{}",
         "name": "end",
         "type": "\"timestamp\""
        },
        {
         "metadata": "{}",
         "name": "temperature",
         "type": "\"double\""
        },
        {
         "metadata": "{}",
         "name": "humidity",
         "type": "\"double\""
        },
        {
         "metadata": "{}",
         "name": "windSpeed",
         "type": "\"double\""
        },
        {
         "metadata": "{}",
         "name": "precipitation",
         "type": "\"double\""
        }
       ],
       "type": "table"
      }
     },
     "output_type": "display_data"
    }
   ],
   "source": [
    "# Aggregating Stream: Read from 'streaming.silver.weather', apply watermarking and windowing, and calculate average weather metrics\n",
    "df = spark.readStream\\\n",
    "    .format(\"delta\")\\\n",
    "    .table(\"streaming.silver.weather\")\\\n",
    "    .withWatermark(\"timestamp\", \"5 minutes\") \\\n",
    "    .groupBy(window(\"timestamp\", \"5 minutes\")) \\\n",
    "    .agg(avg(\"temperature\").alias('temperature'), avg(\"humidity\").alias('humidity'), avg(\"windSpeed\").alias('windSpeed'), avg(\"precipitation\").alias('precipitation'))\\\n",
    "\t.select('window.start', 'window.end', 'temperature', 'humidity', 'windSpeed', 'precipitation')\n",
    "\n",
    "# Displaying Aggregated Stream: Visualize aggregated data for insights into weather trends\n",
    "df.display()\n",
    "\n",
    "# Writing Aggregated Stream: Store the aggregated data in 'streaming.gold.weather_aggregated' with checkpointing for data integrity\n",
    "df.writeStream\\\n",
    "    .option(\"checkpointLocation\", \"/mnt/streaming/gold/weather_summary\")\\\n",
    "    .outputMode(\"append\")\\\n",
    "    .format(\"delta\")\\\n",
    "    .toTable(\"streaming.gold.weather_summary\")"
   ]
  }
 ],
 "metadata": {
  "application/vnd.databricks.v1+notebook": {
   "computePreferences": null,
   "dashboards": [],
   "environmentMetadata": null,
   "language": "python",
   "notebookMetadata": {
    "mostRecentlyExecutedCommandWithImplicitDF": {
     "commandId": 4016826182764860,
     "dataframes": [
      "_sqldf"
     ]
    },
    "pythonIndentUnit": 4
   },
   "notebookName": "Real-time Data Processing with Azure Databricks (and Event Hubs)",
   "widgets": {}
  },
  "kernelspec": {
   "display_name": "Python [conda env:base] *",
   "language": "python",
   "name": "conda-base-py"
  },
  "language_info": {
   "codemirror_mode": {
    "name": "ipython",
    "version": 3
   },
   "file_extension": ".py",
   "mimetype": "text/x-python",
   "name": "python",
   "nbconvert_exporter": "python",
   "pygments_lexer": "ipython3",
   "version": "3.12.7"
  }
 },
 "nbformat": 4,
 "nbformat_minor": 4
}
